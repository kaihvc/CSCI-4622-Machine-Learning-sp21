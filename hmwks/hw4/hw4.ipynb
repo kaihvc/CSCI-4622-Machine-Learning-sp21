{
 "cells": [
  {
   "cell_type": "markdown",
   "metadata": {
    "deletable": false,
    "editable": false,
    "nbgrader": {
     "checksum": "02804d34b749993749a391fe95bd7520",
     "grade": false,
     "grade_id": "cell-39cc69ad672c2457",
     "locked": true,
     "schema_version": 3,
     "solution": false,
     "task": false
    }
   },
   "source": [
    "# Homework 4: SVM\n",
    "\n",
    "\n",
    "This assignment is due on Moodle by **11:59pm on Monday March 31**. \n",
    "Your solutions to theoretical questions should be done in Markdown/MathJax directly below the associated question.\n",
    "Your solutions to computational questions should include any specified Python code and results \n",
    "as well as written commentary on your conclusions.\n",
    "Remember that you are encouraged to discuss the problems with your instructors and classmates, \n",
    "but **you must write all code and solutions on your own**. For a refresher on the course **Collaboration Policy** click [here](https://github.com/akkikiki/CSCI-4622-Machine-Learning-sp21/blob/main/info/syllabus.md#collaboration-policy).\n",
    "\n",
    "**NOTES**: \n",
    "\n",
    "- Do **NOT** load or use any Python packages that are not available in Anaconda (Version: 2019.07) with Python 3.7. \n",
    "- Some problems with code may be autograded.  If we provide a function API **do not** change it.  If we do not provide a function API then you're free to structure your code however you like. \n",
    "- Submit only this Jupyter notebook to Moodle.  Do not compress it using tar, rar, zip, etc. \n",
    "- In this homework you will explore the primal and dual representations of support vector machines, as well as the performance of various kernels while classifying sentiments. Install the following packages: `nltk` (Version: 3.5), `scikit-learn` (Version: 0.23.2)\n"
   ]
  },
  {
   "cell_type": "markdown",
   "metadata": {
    "deletable": false,
    "editable": false,
    "nbgrader": {
     "checksum": "b6a65990e3ee338fcca6169ba1c4d1ff",
     "grade": false,
     "grade_id": "cell-42609c0d44322df4",
     "locked": true,
     "schema_version": 3,
     "solution": false,
     "task": false
    }
   },
   "source": [
    "**Please put your name and cuidentity username.**"
   ]
  },
  {
   "cell_type": "markdown",
   "metadata": {},
   "source": [
    "**Name**: Kai Hueske-VanCeylon"
   ]
  },
  {
   "cell_type": "markdown",
   "metadata": {},
   "source": [
    "**Identity Key**: kahu1945"
   ]
  },
  {
   "cell_type": "code",
   "execution_count": 1,
   "metadata": {},
   "outputs": [],
   "source": [
    "import math\n",
    "import pickle\n",
    "import gzip\n",
    "import numpy as np\n",
    "import pandas\n",
    "import matplotlib.pylab as plt\n",
    "%matplotlib inline\n",
    "\n",
    "# Set random seed for deterministic output\n",
    "np.random.seed(5622)"
   ]
  },
  {
   "cell_type": "markdown",
   "metadata": {
    "deletable": false,
    "editable": false,
    "nbgrader": {
     "checksum": "bcadea9323aaa669deed90d8c5ea2f4b",
     "grade": false,
     "grade_id": "cell-1e40b611c0a33948",
     "locked": true,
     "schema_version": 3,
     "solution": false,
     "task": false
    }
   },
   "source": [
    "[40 Points] Problem 1 - Basic concepts of SVM\n",
    "---\n",
    "\n",
    "### Part 1 [10 points]\n",
    "* What are the main differences between the primal and the dual representations?\n",
    "* For the variables $\\xi_i$, $C$ in the primal formation, what are their roles? Write out the upper/lower bounds (constraints) of these variables. What are the interpretation for these maximum/minimum values?\n",
    "* For the variable $\\alpha_i$, $\\beta_i$ in the dual formation, what are the upper/lower bound (constraints) of them?"
   ]
  },
  {
   "cell_type": "markdown",
   "metadata": {
    "collapsed": true,
    "deletable": false,
    "nbgrader": {
     "checksum": "f616bf5ea6cd25ba5b9bbbf94bb465f5",
     "grade": true,
     "grade_id": "cell-f177349aed9aabcf",
     "locked": false,
     "points": 10,
     "schema_version": 3,
     "solution": true
    }
   },
   "source": [
    "The primal representation only supports linear classification, and doesn't allow the use of kernels. The dual SVM representation includes a Lagrangian objective function, and allows kernels to be used to extend the SVM's applicability to non-linear classification problems.  \n",
    "The variables in $\\xi$ are the slack variables. They allow the SVM to have a \"soft margin\", allowing points to be classified as a particular cluster despite being on the wrong side of the decision boundary. $C$ determines how heavily these slack variables are weighted the objective function, which affects how the SVM is fitted. $C$ has a lower bound of 0, at which point the slack variables aren't taken into consideration at all, and the SVM becomes hard-margin.  \n",
    "The slack variables $\\xi$ also have a lower bound of 0. This is because data points on the correct side of the margin don't need slack variables to correct them. Data within the margin have slack variables between 0 and 1, since they're within 1 margin of the correct side, and data on the wrong side of the margin have slack variables greater than 1.\n",
    "\n",
    "In the dual representation, $0 \\leq \\alpha_i \\leq C$, and for the corresponding $\\beta_i$, $\\alpha_i + \\beta_i = C$ (which naturally means $0 \\leq \\beta_i \\leq C$ as well)."
   ]
  },
  {
   "cell_type": "markdown",
   "metadata": {
    "deletable": false,
    "editable": false,
    "nbgrader": {
     "checksum": "d9711d8637903ea332d20ecae46de997",
     "grade": false,
     "grade_id": "cell-fe7878b1dd2ff1df",
     "locked": true,
     "schema_version": 3,
     "solution": false,
     "task": false
    }
   },
   "source": [
    "### Part 2 [20 points]\n",
    "\n",
    " * Given a weight vector, implement the `find_support` function that returns the indices of the support vectors.\n",
    " * Given a weight vector, implement the `find_slack` function that returns the indices of the vectors with nonzero slack.\n",
    " * Given the alpha dual vector, implement the `weight_vector` function that returns the corresponding weight vector."
   ]
  },
  {
   "cell_type": "code",
   "execution_count": 2,
   "metadata": {
    "deletable": false,
    "nbgrader": {
     "checksum": "03db7fcb00d613cbf64708dc2a27b9ab",
     "grade": false,
     "grade_id": "cell-14c104d96c00c2eb",
     "locked": false,
     "schema_version": 3,
     "solution": true
    }
   },
   "outputs": [],
   "source": [
    "class SVM:\n",
    "    def __init__(self):\n",
    "        self.kINSP = np.array([\n",
    "            (1, 8, +1),\n",
    "            (7, 2, -1),\n",
    "            (6, -1, -1),\n",
    "            (-5, 0, +1),\n",
    "            (-5, 1, -1),\n",
    "            (-5, 2, +1),\n",
    "            (6, 3, +1),\n",
    "            (6, 1, -1),\n",
    "            (5, 2, -1)\n",
    "        ])\n",
    "        self.kSEP = np.array([\n",
    "            (-2, 2, +1),    # 0 - A\n",
    "            (0, 4, +1),     # 1 - B\n",
    "            (2, 1, +1),     # 2 - C\n",
    "            (-2, -3, -1),   # 3 - D\n",
    "            (0, -1, -1),    # 4 - E\n",
    "            (2, -3, -1),    # 5 - F\n",
    "        ])\n",
    "\n",
    "\n",
    "    def weight_vector(self, x, y, alpha):\n",
    "        \"\"\"\n",
    "        Given a vector of alphas, compute the primal weight vector w.\n",
    "        The vector w should be returned as an Numpy array.\n",
    "        \n",
    "        Returns:\n",
    "            w (np.ndarray): The primal weight vector w.\n",
    "        \"\"\"\n",
    "        w = np.zeros(len(x[0]))\n",
    "        for i in range(len(x)):\n",
    "            w += (alpha[i] * y[i] * x[i])\n",
    "        return w\n",
    "\n",
    "\n",
    "\n",
    "    def find_support(self, x, y, w, b, tolerance=0.001):\n",
    "        \"\"\"\n",
    "        Given a set of training examples and primal weights, return the indices\n",
    "        of all of the support vectors as a set.\n",
    "        \n",
    "        Returns:\n",
    "            support (set) : set of support vector indices\n",
    "        \"\"\"\n",
    "        support = set()\n",
    "        for i in range(len(x)):\n",
    "            if y[i] * (np.dot(w, x[i]) + b) <= 1 + tolerance:\n",
    "                support.add(i)\n",
    "        return support\n",
    "\n",
    "\n",
    "\n",
    "    def find_slack(self, x, y, w, b):\n",
    "        \"\"\"\n",
    "        Given a set of training examples and primal weights, return the indices\n",
    "        of all examples with nonzero slack as a set.\n",
    "        \n",
    "        Returns:\n",
    "            slack (set) : set of slack indices \n",
    "        \"\"\"\n",
    "\n",
    "        slack = set()\n",
    "        for i in range(len(x)):\n",
    "            if y[i] * (np.dot(w, x[i]) + b) < 1:\n",
    "                slack.add(i)\n",
    "        return slack"
   ]
  },
  {
   "cell_type": "code",
   "execution_count": 3,
   "metadata": {
    "deletable": false,
    "editable": false,
    "nbgrader": {
     "checksum": "3aa73cc220bc2b16c09b0e72ebd10dfa",
     "grade": true,
     "grade_id": "cell-3c7d7f432578009e",
     "locked": true,
     "points": 20,
     "schema_version": 3,
     "solution": false
    }
   },
   "outputs": [
    {
     "name": "stderr",
     "output_type": "stream",
     "text": [
      "TestWideSlack (tests.tests.TestSVM) ... ok\n",
      "TestNarrowSlack (tests.tests.TestSVM) ... ok\n",
      "TestSupport (tests.tests.TestSVM) ... ok\n",
      "TestWeight (tests.tests.TestSVM) ... ok\n",
      "\n",
      "----------------------------------------------------------------------\n",
      "Ran 4 tests in 0.022s\n",
      "\n",
      "OK\n"
     ]
    }
   ],
   "source": [
    "from tests import tests\n",
    "tests.run_test_suite(\"prob 1\", SVM)"
   ]
  },
  {
   "cell_type": "markdown",
   "metadata": {
    "deletable": false,
    "editable": false,
    "nbgrader": {
     "checksum": "b842153bbb481e2a662612aaa95c8979",
     "grade": false,
     "grade_id": "cell-7c25ab5ed0d77621",
     "locked": true,
     "schema_version": 3,
     "solution": false,
     "task": false
    }
   },
   "source": [
    "### Part 3 [10 points]\n",
    "\n",
    "The goal of this problem is to correctly classify test data points, given a training data set.\n",
    "For this problem, assume that we are training an SVM with a quadratic kernel, which means our kernel function is a polynomial kernel of degree 2. You are given the data set presented in the figure below. The slack penalty $C$ will determine the location of the decision boundary.\n",
    "\n",
    "Justify the following questions in a sentence or via drawing decision boundary.\n",
    "![training_data](./data/data.png)\n",
    "\n",
    "* Where would the decision boundary be for very large values of $C$ ?\n",
    "* Where you would expect the decision boundary to be if  $C = 0$ ?\n",
    "* Which of the two cases above would you expect to generalize better on test data? Why?"
   ]
  },
  {
   "cell_type": "markdown",
   "metadata": {
    "deletable": false,
    "nbgrader": {
     "checksum": "985db05b9496fb3714ee2096479f6f7d",
     "grade": true,
     "grade_id": "cell-02406ba497be1623",
     "locked": false,
     "points": 10,
     "schema_version": 3,
     "solution": true
    }
   },
   "source": [
    "$C$ indicates how much weight we give to the slack variables in the objective function. For a high $C$ value, less deviation from the decision boundary will be accepted, so it will be close to the green points, curving around them.  This version is more complex, and would probably tend to overfit.  \n",
    "For a low $C$ value like 0, more deviation will be allowed, so the decision boundary will just try to maximize the margin, which would mean the decision boundary would be almost diagonally, sloping down to the right, and in the middle of the space between the two clusters of points. The two red points which are grouped with the green cluster would be on the wrong side of the boundary, but the slack variables would let them be classified correctly. This version is less complex, and would tend to generalize better to test data, because it doesn't constrain the categories as strongly."
   ]
  },
  {
   "cell_type": "markdown",
   "metadata": {
    "deletable": false,
    "editable": false,
    "nbgrader": {
     "checksum": "bef866dff5b0ce6c9dea5e7aea37f23a",
     "grade": false,
     "grade_id": "cell-55888810e6151283",
     "locked": true,
     "schema_version": 3,
     "solution": false,
     "task": false
    }
   },
   "source": [
    "[30 points] Problem 2 - The Kernel Trick\n",
    "---\n",
    "The kernel trick can make SVM powerful and become non-linear. In this problem we will get familiar with the kernel trick.\n",
    "\n",
    "### Part 1 [10 points]\n",
    "\n",
    "We will construct a support vector machine that computes the XOR function, using values of +1 and −1 (instead of 1 and 0) for both inputs and outputs, so that an example looks like ($[−1, 1], 1$) or ($[−1, −1], −1$). \n",
    "- Map the input $[x_1, x_2]$ into a space consisting of $x_1$ and $x_1x_2$. \n",
    "- Plot the four input points in this space, and the maximal margin separator. \n",
    "- Give the margin value in the markdown cell. \n",
    "\n",
    "Remember to indicate which points have output +1 and which -1."
   ]
  },
  {
   "cell_type": "code",
   "execution_count": 4,
   "metadata": {
    "deletable": false,
    "nbgrader": {
     "checksum": "c0fe2b7a9339f72690a8459981899a23",
     "grade": true,
     "grade_id": "cell-20ea52b04bb94dee",
     "locked": false,
     "points": 8,
     "schema_version": 3,
     "solution": true,
     "task": false
    }
   },
   "outputs": [
    {
     "data": {
      "image/png": "[encoded data removed]",
      "text/plain": [
       "<Figure size 432x288 with 1 Axes>"
      ]
     },
     "metadata": {
      "needs_background": "light"
     },
     "output_type": "display_data"
    }
   ],
   "source": [
    "input_vals = np.array([[1, 1], [1, -1], [-1, 1], [-1, -1]])\n",
    "\n",
    "# map input, define outputs\n",
    "mapped = np.array([[x[0], x[0] * x[1]] for x in input_vals])\n",
    "output_vals = np.array([0, 1, 1, 0])\n",
    "\n",
    "fig, ax = plt.subplots()\n",
    "ax.scatter(mapped[:, 0], mapped[:, 1])\n",
    "for i, x in enumerate(input_vals):\n",
    "    ax.annotate(output_vals[i], mapped[i], textcoords='offset pixels', xytext=(10, 0))\n",
    "    \n",
    "# boundary\n",
    "ax.plot([-1, 1], [0, 0], color='red', label='decision boundary')\n",
    "ax.legend()\n",
    "plt.show()"
   ]
  },
  {
   "cell_type": "markdown",
   "metadata": {
    "deletable": false,
    "nbgrader": {
     "checksum": "e73071136adefa9aed2ebcd5957bd69a",
     "grade": true,
     "grade_id": "cell-64bbc4980b5c4edd",
     "locked": false,
     "points": 2,
     "schema_version": 3,
     "solution": true,
     "task": false
    }
   },
   "source": [
    "Our weights vector is $\\textbf{w} = [0, 1]^T$. This means our margin is $M = \\frac{2}{||\\textbf{w}||} = \\frac{2}{\\sqrt{0^2 + 1^2}} = 2$"
   ]
  },
  {
   "cell_type": "markdown",
   "metadata": {
    "deletable": false,
    "editable": false,
    "nbgrader": {
     "checksum": "387213f9cb504ea0e2fc596e89d0f919",
     "grade": false,
     "grade_id": "cell-5ba884cd7e49d78d",
     "locked": true,
     "schema_version": 3,
     "solution": false,
     "task": false
    }
   },
   "source": [
    "### Part 2 [5 points]\n",
    "Plot the separating line of **Part 1** back in the original Euclidean input space."
   ]
  },
  {
   "cell_type": "code",
   "execution_count": 5,
   "metadata": {
    "deletable": false,
    "nbgrader": {
     "checksum": "e6e323e18881c3d6be9b1ff2abd3d8ac",
     "grade": true,
     "grade_id": "cell-9020bbe03ed87cfc",
     "locked": false,
     "points": 5,
     "schema_version": 3,
     "solution": true,
     "task": false
    }
   },
   "outputs": [
    {
     "name": "stderr",
     "output_type": "stream",
     "text": [
      "c:\\users\\kaih2\\appdata\\local\\programs\\python\\python38\\lib\\site-packages\\matplotlib\\text.py:1163: FutureWarning: elementwise comparison failed; returning scalar instead, but in the future will perform elementwise comparison\n",
      "  if s != self._text:\n"
     ]
    },
    {
     "data": {
      "image/png": "[encoded data removed]",
      "text/plain": [
       "<Figure size 432x288 with 1 Axes>"
      ]
     },
     "metadata": {
      "needs_background": "light"
     },
     "output_type": "display_data"
    }
   ],
   "source": [
    "x1 = np.linspace(-2, -1 * (1 / 25), 25)\n",
    "y1 = 1 / x1\n",
    "x2 = np.linspace(1 * (1 / 25), 2, 25)\n",
    "y2 = 1 / x2\n",
    "\n",
    "fig, ax = plt.subplots()\n",
    "ax.scatter(input_vals[:, 0], input_vals[:, 1])\n",
    "for i in range(len(input_vals)):\n",
    "    ax.annotate(input_vals[i], input_vals[i], textcoords='offset pixels', xytext=(10, 0))\n",
    "    \n",
    "# boundary\n",
    "ax.plot(x1, y1, color='red', label='decision boundary')\n",
    "ax.plot(x2, y2, color='red')\n",
    "ax.set_ylim([-2, 2])\n",
    "ax.set_xlim([-2, 2])\n",
    "ax.legend()\n",
    "plt.show()"
   ]
  },
  {
   "cell_type": "markdown",
   "metadata": {
    "deletable": false,
    "editable": false,
    "nbgrader": {
     "checksum": "d978690256991b3b10176a46bb25febe",
     "grade": false,
     "grade_id": "cell-3013de14effe2d4a",
     "locked": true,
     "schema_version": 3,
     "solution": false,
     "task": false
    }
   },
   "source": [
    "### Part 3 [5 points]\n",
    "Is the separator in **Part 1** linear? Is the one in **Part 2** linear? Explain your answer."
   ]
  },
  {
   "cell_type": "markdown",
   "metadata": {
    "deletable": false,
    "nbgrader": {
     "checksum": "8821f5382c580de24c483bd1a0cd4b31",
     "grade": true,
     "grade_id": "cell-119e16472d287f4e",
     "locked": false,
     "points": 5,
     "schema_version": 3,
     "solution": true,
     "task": false
    }
   },
   "source": [
    "The separator in part 1 is linear; it's just a line in its space. The one in part 2, however, is not linear; in the original euclidean space, it has the equation $x_2 = \\frac{1}{x_1}$, which is not linear."
   ]
  },
  {
   "cell_type": "markdown",
   "metadata": {
    "deletable": false,
    "editable": false,
    "nbgrader": {
     "checksum": "95b20466fd3ca86119c013f75bc4656f",
     "grade": false,
     "grade_id": "cell-b8218f37ba88f7c9",
     "locked": true,
     "schema_version": 3,
     "solution": false,
     "task": false
    }
   },
   "source": [
    "### Part 4 [10 points]\n",
    "The key point of the so-called “kernel trick” in SVMs is to learn a classifier that effectively separates the training data in a higher dimensional space without having to explicitly compute the representation $\\phi(\\mathbf{x})$ of every point $\\mathbf{x}$ in the original input space. Instead, all the work is done through the kernel function $K(\\mathbf{x}_i, \\mathbf{x}_i)$, for example, we can use $K(\\mathbf{x}_i, \\mathbf{x}_i) = \\phi(\\mathbf{x}_i)\\phi(\\mathbf{x}_j)$.\n",
    "\n",
    "Show how to compute the squared Euclidean distance in the projected space between any two points $\\mathbf{x}_i$, $\\mathbf{x}_j$ in the original space without explicitly computing the $\\phi$ mapping, instead using the kernel function $K$. In other words, derive $d(\\phi(\\mathbf{x}_i), \\phi(\\mathbf{x}_j)) = (\\phi(\\mathbf{x}_i) - \\phi(\\mathbf{x}_j))\\cdot(\\phi(\\mathbf{x}_i) - \\phi(\\mathbf{x}_j))$ into a form using only the kernel function.\n",
    "\n",
    "Please remember to simplify your solution."
   ]
  },
  {
   "cell_type": "markdown",
   "metadata": {
    "deletable": false,
    "nbgrader": {
     "checksum": "3beedd96d39e9c464377ae2885f78ba0",
     "grade": true,
     "grade_id": "cell-c6b6512e7d992202",
     "locked": false,
     "points": 10,
     "schema_version": 3,
     "solution": true,
     "task": false
    }
   },
   "source": [
    "$d(\\phi(\\mathbf{x}_i), \\phi(\\mathbf{x}_j)) = (\\phi(\\mathbf{x}_i) - \\phi(\\mathbf{x}_j))\\cdot(\\phi(\\mathbf{x}_i) - \\phi(\\mathbf{x}_j)) \\\\\n",
    "= \\phi(\\mathbf{x}_i)\\phi(\\mathbf{x}_i) - 2\\phi(\\mathbf{x}_i)\\phi(\\mathbf{x}_j) + \\phi(\\mathbf{x}_j))\\phi(\\mathbf{x}_j)) \\\\\n",
    "= K(\\mathbf{x}_i, \\mathbf{x}_i) - 2K(\\mathbf{x}_i, \\mathbf{x}_j) + K(\\mathbf{x}_j, \\mathbf{x}_j)$"
   ]
  },
  {
   "cell_type": "markdown",
   "metadata": {
    "deletable": false,
    "editable": false,
    "nbgrader": {
     "checksum": "eda0db6d3653c96ec72059179ddb52ec",
     "grade": false,
     "grade_id": "cell-2a7361023bfbbe84",
     "locked": true,
     "schema_version": 3,
     "solution": false,
     "task": false
    }
   },
   "source": [
    "[30 points] Problem 3 - SVM with `sklearn`\n",
    "---\n",
    "\n",
    "In this problem, you will get familiar with important practical functions in scikit-learn such as pipeline, grid search, and cross validation. You will experiment with these using support vector machines.\n",
    "\n",
    "Note that grid search can take some time on your laptop, so make sure that your code is correct with a small subset of the training data and search a reasonable number of options.\n",
    "\n",
    "* Use the Sklearn implementation of support vector machines to train a classifier to distinguish Positive and negative sentiments\n",
    "* Experiment with linear, polynomial, and RBF kernels. First, perform a GridSearch over each kernel function and a small set of parameters defined over a wide range to help narrow down the search space.\n",
    "* Then choose the best performing kernel from your coarse scale search and define a narrower set of parameters for random search to further optimize the hyperparameters. Comment on the experiments you ran and optimal hyperparameters you found.\n",
    "Hint: http://scikit-learn.org/stable/modules/grid_search.html\n",
    "* Evaluate classification performance for each model for optimal parameters by testing on a hold-out set.\n",
    "\n",
    "Following is a dataset containing reviews and sentiments associated with it.\n",
    "\n",
    "We will create a SVM Classifier to predict positive or negative sentiments."
   ]
  },
  {
   "cell_type": "code",
   "execution_count": 20,
   "metadata": {},
   "outputs": [
    {
     "name": "stdout",
     "output_type": "stream",
     "text": [
      "[Sizes] train: 4000, test: 1000\n",
      "[Avg S] train: 0.49875, test: 0.505\n"
     ]
    }
   ],
   "source": [
    "import pandas as pd\n",
    "from sklearn.model_selection import train_test_split, StratifiedKFold\n",
    "reviews  = pd.read_csv('./data/reviews.csv')\n",
    "train, test = train_test_split(reviews, test_size=0.2, random_state=5622)\n",
    "X_train = train['reviews']\n",
    "X_test = test['reviews']\n",
    "y_train = train['sentiment']\n",
    "y_test = test['sentiment']\n",
    "\n",
    "# Print some data info\n",
    "print(f'[Sizes] train: {len(X_train)}, test: {len(X_test)}')\n",
    "print(f'[Avg S] train: {sum(y_train)/len(X_train)}, test: {sum(y_test)/len(X_test)}')"
   ]
  },
  {
   "cell_type": "code",
   "execution_count": 17,
   "metadata": {},
   "outputs": [
    {
     "name": "stderr",
     "output_type": "stream",
     "text": [
      "[nltk_data] Downloading package stopwords to\n",
      "[nltk_data]     C:\\Users\\kaih2\\AppData\\Roaming\\nltk_data...\n",
      "[nltk_data]   Package stopwords is already up-to-date!\n"
     ]
    }
   ],
   "source": [
    "import nltk\n",
    "from nltk.corpus import stopwords\n",
    "from nltk.tokenize import TweetTokenizer\n",
    "from sklearn.feature_extraction.text import CountVectorizer\n",
    "from sklearn.svm import SVC\n",
    "from sklearn.pipeline import make_pipeline, Pipeline\n",
    "from sklearn.model_selection import GridSearchCV, RandomizedSearchCV\n",
    "from sklearn.metrics import accuracy_score, f1_score\n",
    "from sklearn.metrics import confusion_matrix, roc_auc_score, recall_score, precision_score\n",
    "\n",
    "# download nltk data\n",
    "nltk.download('stopwords')\n",
    "en_stopwords = set(stopwords.words(\"english\")) "
   ]
  },
  {
   "cell_type": "markdown",
   "metadata": {
    "deletable": false,
    "editable": false,
    "nbgrader": {
     "checksum": "3824735b35e2893522e59b8f68ebf486",
     "grade": false,
     "grade_id": "cell-c5af7b0df4f72c74",
     "locked": true,
     "schema_version": 3,
     "solution": false,
     "task": false
    }
   },
   "source": [
    "### Part 1 [5 points]\n",
    "\n",
    "Complete the `get_vectorizer` and `get_kfolds` functions below.\n",
    "\n",
    "- Use [`CountVectorizer`](https://scikit-learn.org/stable/modules/generated/sklearn.feature_extraction.text.CountVectorizer.html) to vectorize reviews as dictionary of term frequencies.\n",
    "- Define the crossvalidation split using [`StratifiedKFold`](https://scikit-learn.org/stable/modules/generated/sklearn.model_selection.StratifiedKFold.html?highlight=stratifiedkfold#sklearn.model_selection.StratifiedKFold)."
   ]
  },
  {
   "cell_type": "code",
   "execution_count": 72,
   "metadata": {
    "deletable": false,
    "nbgrader": {
     "checksum": "196749f1263ab6c54cc354afa9b5c4c3",
     "grade": false,
     "grade_id": "cell-ab58d371c35713b4",
     "locked": false,
     "schema_version": 3,
     "solution": true,
     "task": false
    }
   },
   "outputs": [],
   "source": [
    "from sklearn.model_selection import StratifiedKFold\n",
    "def tokenize(text): \n",
    "    \"\"\"\n",
    "    Separate text into tokens\n",
    "    \"\"\"\n",
    "    tknzr = TweetTokenizer()\n",
    "    return tknzr.tokenize(text)\n",
    "\n",
    "def get_vectorizer():\n",
    "    \"\"\" \n",
    "    \n",
    "    Create and return a CountVectorizer\n",
    "    \n",
    "    Hints:\n",
    "        Read docs on CountVectorizer to set arguments (https://scikit-learn.org/stable/modules/generated/sklearn.feature_extraction.text.CountVectorizer.html) \n",
    "        Pass the above tokenize function as the tokenizer.\n",
    "        Use en_stopwords variable above as stopwords\n",
    "        \n",
    "        Play with different parameters.\n",
    "        min_df argument can help with generalizability\n",
    "    \"\"\"\n",
    "    \n",
    "    vectorizer = CountVectorizer(tokenizer=tokenize, max_df=0.8, min_df=0.3)\n",
    "    return vectorizer\n",
    "\n",
    "def get_kfolds():\n",
    "    \"\"\" \n",
    "    Split dataset into 5 splits using StratifiedKFold \n",
    "    \n",
    "    Hint:\n",
    "    Remember to shuffle\n",
    "    \"\"\"\n",
    "    kfolds = StratifiedKFold(n_splits=5, shuffle=True)\n",
    "    return kfolds\n",
    "\n",
    "\n",
    "vectorizer = get_vectorizer()\n",
    "kfolds = get_kfolds()"
   ]
  },
  {
   "cell_type": "code",
   "execution_count": 73,
   "metadata": {
    "deletable": false,
    "editable": false,
    "nbgrader": {
     "checksum": "3fabfb15f1d4ee78f5d2f9aa72193a59",
     "grade": true,
     "grade_id": "cell-7b9737faea74ccef",
     "locked": true,
     "points": 5,
     "schema_version": 3,
     "solution": false,
     "task": false
    }
   },
   "outputs": [],
   "source": [
    "# for grading; please ignore"
   ]
  },
  {
   "cell_type": "markdown",
   "metadata": {
    "deletable": false,
    "editable": false,
    "nbgrader": {
     "checksum": "75b3eb30df1712dcef3a3334c4f4c8b8",
     "grade": false,
     "grade_id": "cell-ddb76d3c6bae8e15",
     "locked": true,
     "schema_version": 3,
     "solution": false,
     "task": false
    }
   },
   "source": [
    "### Part 2 [10 points]\n",
    "* Create a pipeline with our `CountVectorizer` object in **Part 1** and an SVM Classifier.\n",
    "* Create and fit a `GridSearchCV` object with the following parameter values:\n",
    "  * Linear kernel, $C = 0.01, 1.0, 10.0$\n",
    "  * Polynomial kernel, $\\text{degree} = 2, 3$, $\\gamma = 0.1, 0.5, 1$\n",
    "  * RBF kernel, $\\gamma = 0.1, 0.5, 1$\n",
    "* Report accuracy on the best estimator from our `GridSearchCV` object. (Choose `GridSearchCV`'s `n_jobs` parameter as 1 if your system doesn't support multiprocessing)"
   ]
  },
  {
   "cell_type": "code",
   "execution_count": 82,
   "metadata": {
    "deletable": false,
    "nbgrader": {
     "checksum": "f8d29528eda0679df9787ebc7a3d812e",
     "grade": false,
     "grade_id": "cell-a3dd5b25a9ce8feb",
     "locked": false,
     "schema_version": 3,
     "solution": true,
     "task": false
    }
   },
   "outputs": [
    {
     "name": "stdout",
     "output_type": "stream",
     "text": [
      "Fitting 5 folds for each of 9 candidates, totalling 45 fits\n"
     ]
    }
   ],
   "source": [
    "def get_pipeline(**kwargs):\n",
    "    \"\"\"\n",
    "        Define pipeline using make_pipeline (see sklearn docs) with vectorizer and SVM Classifier. \n",
    "        \n",
    "        The SVM Classifer should take in all kwargs passed (passing kwargs can be achieved with fn(**kwargs))\n",
    "        You should use balanced class weights for SVM.\n",
    "    \"\"\"\n",
    "    \n",
    "    pipeline_svm = make_pipeline(vectorizer, SVC(**kwargs, class_weight='balanced'))\n",
    "    return pipeline_svm\n",
    "\n",
    "def get_course_params():\n",
    "    \"\"\"\n",
    "        Create the grid search parameters defined above for course grid search. \n",
    "        Returns a list of dictionaries to be passed as argument to GridSearchCV below\n",
    "    \"\"\"\n",
    "    \n",
    "    param_grid = {\n",
    "        'svc__C': [0.01, 1.0, 10.0],\n",
    "        'svc__kernel': ['poly'],\n",
    "        'svc__degree': [3],\n",
    "        'svc__gamma': [0.1, 0.5, 1]\n",
    "    }\n",
    "    return param_grid\n",
    "\n",
    "def get_grid_svm():\n",
    "    \"\"\"\n",
    "        Create GridSearchCV with pipeline and the grid search parameters given above using \"accuracy\" for scoring.\n",
    "    \"\"\" \n",
    "     \n",
    "    param_grid = get_course_params()\n",
    "    pipeline_svm = get_pipeline()\n",
    "    \n",
    "    grid_svm = GridSearchCV(\n",
    "        pipeline_svm, \n",
    "        param_grid, \n",
    "        scoring='accuracy', \n",
    "        cv=kfolds,\n",
    "        n_jobs=-1,\n",
    "        verbose = 2\n",
    "    )\n",
    "    \n",
    "    return grid_svm\n",
    "    \n",
    "# pipeline = get_pipeline()\n",
    "# print(pipeline.get_params().keys())\n",
    "\n",
    "grid_svm = get_grid_svm()\n",
    "# debug_size = int(len(X_train) / 80)\n",
    "# X_debug = X_train[:debug_size]\n",
    "# y_debug = y_train[:debug_size]\n",
    "# _ = grid_svm.fit(X_debug, y_debug)\n",
    "# For debugging purposes, it makes sense to use a smaller set of training set to speed up the grid search progress\n",
    "# refit is not necessary since by default refit is true in GridSearchCV, \n",
    "# but we did this to show that you need to use the best parameter to fit the whole training set\n",
    "_ = grid_svm.fit(X_train, y_train)"
   ]
  },
  {
   "cell_type": "code",
   "execution_count": null,
   "metadata": {
    "deletable": false,
    "editable": false,
    "nbgrader": {
     "checksum": "68a1aabe495c06e761fe8f6ce92d667f",
     "grade": true,
     "grade_id": "cell-fb57090849f1d094",
     "locked": true,
     "points": 5,
     "schema_version": 3,
     "solution": false,
     "task": false
    }
   },
   "outputs": [],
   "source": [
    "# For grading; please ignore."
   ]
  },
  {
   "cell_type": "code",
   "execution_count": 83,
   "metadata": {
    "deletable": false,
    "nbgrader": {
     "checksum": "8819e90ae6a2708015ffaa2865cfd394",
     "grade": false,
     "grade_id": "cell-47833f7ec14a9d22",
     "locked": false,
     "schema_version": 3,
     "solution": true,
     "task": false
    }
   },
   "outputs": [
    {
     "name": "stdout",
     "output_type": "stream",
     "text": [
      "best params: {'svc__C': 0.01, 'svc__degree': 3, 'svc__gamma': 0.1, 'svc__kernel': 'poly'} | best cv score: 0.7942499999999999\n"
     ]
    }
   ],
   "source": [
    "best_params = grid_svm.best_params_\n",
    "best_score = grid_svm.best_score_\n",
    "\n",
    "# Store best parameters and CV score from grid search for reporting into the variables above\n",
    "\n",
    "# Report best parameters and CV score from grid search\n",
    "print(f'best params: {best_params} | best cv score: {best_score}')"
   ]
  },
  {
   "cell_type": "code",
   "execution_count": null,
   "metadata": {
    "deletable": false,
    "editable": false,
    "nbgrader": {
     "checksum": "bf1df17e0bfe9499ed65aeda57e96c8c",
     "grade": true,
     "grade_id": "cell-1268040b2d1a98b4",
     "locked": true,
     "points": 5,
     "schema_version": 3,
     "solution": false,
     "task": false
    }
   },
   "outputs": [],
   "source": [
    "# For grading; please ignore."
   ]
  },
  {
   "cell_type": "markdown",
   "metadata": {
    "deletable": false,
    "editable": false,
    "nbgrader": {
     "checksum": "ef3c4187f1be7404dd2fb775bb68dea1",
     "grade": false,
     "grade_id": "cell-a561071b8ec246bc",
     "locked": true,
     "schema_version": 3,
     "solution": false,
     "task": false
    }
   },
   "source": [
    "### Part 3 [10 points]\n",
    "\n",
    "Choose the best performing kernel and parameter values from your coarse scale grid search and use them to set up a narrower range of parameter values. We will use randomized grid search to sample a fixed number of these candidate parameter sets for cross validation. The number of sampled parameter sets `n_iter` provides a trade-off between computational cost and quality of the \"optimal\" parameters. Feel free to experiment with different values of this parameter, but please change it back to `n_iter = 5` before submitting your assignment."
   ]
  },
  {
   "cell_type": "code",
   "execution_count": 84,
   "metadata": {
    "deletable": false,
    "nbgrader": {
     "checksum": "8a05d6ba748a96b7b451774b54a41134",
     "grade": true,
     "grade_id": "cell-e1116a343a3e645a",
     "locked": false,
     "points": 5,
     "schema_version": 3,
     "solution": true,
     "task": false
    }
   },
   "outputs": [
    {
     "name": "stdout",
     "output_type": "stream",
     "text": [
      "Fitting 5 folds for each of 20 candidates, totalling 100 fits\n"
     ]
    }
   ],
   "source": [
    "def get_params_fine_scale():\n",
    "    \"\"\"\n",
    "        Set param_grid to a dictionary containing parameter values for fine scale search.\n",
    "        Return value is passed as argument to RandomizedSearchCV below\n",
    "    \"\"\" \n",
    "    search_params = ['svc__C', 'svc__gamma']\n",
    "    param_grid = dict()\n",
    "    for param in best_params:\n",
    "        if param in search_params:\n",
    "            center = best_params[param]\n",
    "            param_grid[param] = list(np.linspace(center / 2, 1.5 * center, 10))\n",
    "        else:\n",
    "            param_grid[param] = [best_params[param]]\n",
    "    return param_grid\n",
    "\n",
    "\n",
    "def get_random_svm():\n",
    "    \"\"\"\n",
    "        Create randomized parameter search over fine scale grid;\n",
    "        Do NOT change the value of n_iter in the submitted version of your notebook.\n",
    "    \"\"\" \n",
    "    n_iter = 5\n",
    "    pipeline_svm = get_pipeline()\n",
    "    param_grid = get_params_fine_scale()\n",
    "\n",
    "    random_svm = RandomizedSearchCV(\n",
    "        pipeline_svm,\n",
    "        param_grid,\n",
    "        n_iter=n_iter,\n",
    "        cv = kfolds,\n",
    "        scoring=\"accuracy\",\n",
    "        verbose=1,   \n",
    "        n_jobs=-1 # you can change the n_jobs parameter to -1 if your system supports multi-prcoessing\n",
    "    )\n",
    "    return random_svm\n",
    "\n",
    "random_svm = get_random_svm()\n",
    "# debug_size = int(len(X_train) / 80)\n",
    "# X_debug = X_train[:debug_size]\n",
    "# y_debug = y_train[:debug_size]\n",
    "# refit is not necessary since by default refit is true in RandomSearchCV, \n",
    "# but we did this to show that you need to use the best parameter to fit the whole training set\n",
    "_ = random_svm.fit(X_train, y_train)"
   ]
  },
  {
   "cell_type": "code",
   "execution_count": 85,
   "metadata": {
    "deletable": false,
    "nbgrader": {
     "checksum": "125f0f9cacebf47639d09fd315e2c960",
     "grade": false,
     "grade_id": "cell-39b5a8b9e508cf0e",
     "locked": false,
     "schema_version": 3,
     "solution": true,
     "task": false
    }
   },
   "outputs": [
    {
     "name": "stdout",
     "output_type": "stream",
     "text": [
      "best params: {'svc__kernel': 'poly', 'svc__gamma': 0.061111111111111116, 'svc__degree': 3, 'svc__C': 0.011666666666666665} | best cv score: 0.7975\n"
     ]
    }
   ],
   "source": [
    "best_params = random_svm.best_params_\n",
    "best_score = random_svm.best_score_\n",
    "\n",
    "# Store best parameters and score from random search for reporting into the variables above \n",
    "\n",
    "# Report best parameters and score from random search\n",
    "print(f'best params: {best_params} | best cv score: {best_score}')"
   ]
  },
  {
   "cell_type": "code",
   "execution_count": null,
   "metadata": {
    "deletable": false,
    "editable": false,
    "nbgrader": {
     "checksum": "78ef3b52d32ae25d6d538048785d9e88",
     "grade": true,
     "grade_id": "cell-5fd96d17e21f469c",
     "locked": true,
     "points": 5,
     "schema_version": 3,
     "solution": false,
     "task": false
    }
   },
   "outputs": [],
   "source": [
    "# For grading; please ignore."
   ]
  },
  {
   "cell_type": "code",
   "execution_count": 86,
   "metadata": {},
   "outputs": [],
   "source": [
    "def report_results(model, X, y):\n",
    "    # Reports various model metrics.  \n",
    "    pred = model.predict(X)        \n",
    "    acc = accuracy_score(y, pred)\n",
    "    f1 = f1_score(y, pred)\n",
    "    prec = precision_score(y, pred)\n",
    "    rec = recall_score(y, pred)\n",
    "    result = {'f1': f1, 'acc': acc, 'precision': prec, 'recall': rec}\n",
    "    return result"
   ]
  },
  {
   "cell_type": "code",
   "execution_count": 87,
   "metadata": {},
   "outputs": [
    {
     "data": {
      "text/plain": [
       "{'f1': 0.8183556405353729,\n",
       " 'acc': 0.81,\n",
       " 'precision': 0.7911275415896488,\n",
       " 'recall': 0.8475247524752475}"
      ]
     },
     "execution_count": 87,
     "metadata": {},
     "output_type": "execute_result"
    }
   ],
   "source": [
    "# get test metrics.\n",
    "report_results(random_svm.best_estimator_, X_test, y_test)"
   ]
  },
  {
   "cell_type": "markdown",
   "metadata": {
    "deletable": false,
    "editable": false,
    "nbgrader": {
     "checksum": "c7739604efa929d396b9cf11c0d8114a",
     "grade": false,
     "grade_id": "cell-a47ce46465ea41d1",
     "locked": true,
     "schema_version": 3,
     "solution": false,
     "task": false
    }
   },
   "source": [
    "### Part 4 [5 points]\n",
    "\n",
    "Explain the overall procedure, and report the final result including which hyperparameter values were chosen. Make sure to explain your reasoning in choosing a refined parameter search space in **Part 3**."
   ]
  },
  {
   "cell_type": "markdown",
   "metadata": {
    "deletable": false,
    "nbgrader": {
     "checksum": "651d32596f089e5e6a6cc978c6f79cd6",
     "grade": true,
     "grade_id": "cell-6fecb92ed6ad5abe",
     "locked": false,
     "points": 5,
     "schema_version": 3,
     "solution": true
    }
   },
   "source": [
    "Our model was a pipeline of a vectorizer, to perform preprocessing on the text data, and an SVM classifier, to perform sentiment classification.\n",
    "\n",
    "The procedure was to perform a search on various hyperparameters of the model. This entailed choosing a set of hyperparameters to search for (in this case, $C$ and $\\gamma$ for the SVM), as well as various candidate values for these hyperparameters. Then, we fit a model using each possible combination of these hyperparameter values, and compared their performances (by accuracy) to choose the best combination. This was the grid search. Next, for a finer search, we defined a range of hyperparameter values close to the best values from the grid search, and performed a random search, in which we fit 5 models using a random combination of these new hyperparameter values.\n",
    "\n",
    "For the random search, I chose values which were between $a / 2$ and $3 a / 2$ for each best hyperparameter result $a$ from the grid search. The original grid search candidate values were orders of magnitude apart, which suggested that a search of values of the same order of magnitude might be useful."
   ]
  },
  {
   "cell_type": "code",
   "execution_count": null,
   "metadata": {},
   "outputs": [],
   "source": []
  }
 ],
 "metadata": {
  "celltoolbar": "Edit Metadata",
  "kernelspec": {
   "display_name": "Python 3",
   "language": "python",
   "name": "python3"
  },
  "language_info": {
   "codemirror_mode": {
    "name": "ipython",
    "version": 3
   },
   "file_extension": ".py",
   "mimetype": "text/x-python",
   "name": "python",
   "nbconvert_exporter": "python",
   "pygments_lexer": "ipython3",
   "version": "3.8.5"
  },
  "toc": {
   "base_numbering": 1,
   "nav_menu": {},
   "number_sections": false,
   "sideBar": true,
   "skip_h1_title": true,
   "title_cell": "Table of Contents",
   "title_sidebar": "Contents",
   "toc_cell": false,
   "toc_position": {},
   "toc_section_display": true,
   "toc_window_display": true
  }
 },
 "nbformat": 4,
 "nbformat_minor": 2
}
